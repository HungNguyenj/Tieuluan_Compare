{
  "nbformat": 4,
  "nbformat_minor": 0,
  "metadata": {
    "colab": {
      "provenance": []
    },
    "kernelspec": {
      "name": "python3",
      "display_name": "Python 3"
    },
    "language_info": {
      "name": "python"
    }
  },
  "cells": [
    {
      "cell_type": "code",
      "execution_count": null,
      "metadata": {
        "colab": {
          "base_uri": "https://localhost:8080/"
        },
        "id": "PecZjCFhPYQD",
        "outputId": "b84e6898-d7a0-40b1-adf8-0e5e084013bc"
      },
      "outputs": [
        {
          "output_type": "stream",
          "name": "stdout",
          "text": [
            "Hôm nay trời có vẻ nắng đẹp, chắc mọi người sẽ đi dạo công viên.\n",
            "Con sông chảy dài, uốn lượn qua những cánh đồng xanh bát ngát.\n",
            "Khi thành phố lên đèn, nhịp sống về đêm mới bắt đầu.\n",
            "Anh ấy rất thích uống cà phê mỗi sáng để tỉnh táo làm việc.\n",
            "Tại sao những chú chim luôn cất tiếng hót vào buổi sáng sớm?\n",
            "Cuộc sống hiện đại khiến chúng ta dễ quên đi sự kết nối với thiên nhiên.\n",
            "Bà của tôi thường kể những câu chuyện cổ tích trước khi tôi đi ngủ.\n",
            "Mỗi lần đến thư viện, tôi lại bị cuốn vào thế giới của sách.\n",
            "Nếu bạn có thể đi du lịch ở bất kỳ nơi nào trên thế giới, bạn sẽ chọn ở đâu?\n",
            "Bầu trời đêm hôm nay đầy sao, như một bức tranh tuyệt đẹp của thiên nhiên.\n",
            "Dù công việc bận rộn, hãy nhớ dành thời gian chăm sóc bản thân.\n",
            "Trẻ em thường thích chạy nhảy trên những cánh đồng lúa vàng.\n",
            "Nghệ thuật nấu ăn không chỉ là kỹ năng mà còn là sự sáng tạo.\n",
            "Mỗi cơn mưa rào mùa hạ đều mang đến cảm giác mát mẻ, dễ chịu.\n",
            "Bạn đã bao giờ thử thức dậy sớm và ngắm bình minh chưa?\n",
            "Cây cầu dài nhất thế giới là một biểu tượng của sự tiến bộ về kỹ thuật.\n",
            "Âm nhạc có khả năng kết nối con người bất kể ngôn ngữ hay văn hóa.\n",
            "Chúng tôi luôn tin rằng giáo dục là chìa khóa mở ra tương lai tốt đẹp hơn.\n",
            "Khi lá rụng, mùa thu lại bắt đầu, mang theo những cơn gió se lạnh.\n",
            "Sự sẻ chia và giúp đỡ lẫn nhau làm cho cuộc sống trở nên ý nghĩa hơn.\n"
          ]
        }
      ],
      "source": [
        "sample_sentences = [\n",
        "    \"Hôm nay trời có vẻ nắng đẹp, chắc mọi người sẽ đi dạo công viên.\",\n",
        "    \"Con sông chảy dài, uốn lượn qua những cánh đồng xanh bát ngát.\",\n",
        "    \"Khi thành phố lên đèn, nhịp sống về đêm mới bắt đầu.\",\n",
        "    \"Anh ấy rất thích uống cà phê mỗi sáng để tỉnh táo làm việc.\",\n",
        "    \"Tại sao những chú chim luôn cất tiếng hót vào buổi sáng sớm?\",\n",
        "    \"Cuộc sống hiện đại khiến chúng ta dễ quên đi sự kết nối với thiên nhiên.\",\n",
        "    \"Bà của tôi thường kể những câu chuyện cổ tích trước khi tôi đi ngủ.\",\n",
        "    \"Mỗi lần đến thư viện, tôi lại bị cuốn vào thế giới của sách.\",\n",
        "    \"Nếu bạn có thể đi du lịch ở bất kỳ nơi nào trên thế giới, bạn sẽ chọn ở đâu?\",\n",
        "    \"Bầu trời đêm hôm nay đầy sao, như một bức tranh tuyệt đẹp của thiên nhiên.\",\n",
        "    \"Dù công việc bận rộn, hãy nhớ dành thời gian chăm sóc bản thân.\",\n",
        "    \"Trẻ em thường thích chạy nhảy trên những cánh đồng lúa vàng.\",\n",
        "    \"Nghệ thuật nấu ăn không chỉ là kỹ năng mà còn là sự sáng tạo.\",\n",
        "    \"Mỗi cơn mưa rào mùa hạ đều mang đến cảm giác mát mẻ, dễ chịu.\",\n",
        "    \"Bạn đã bao giờ thử thức dậy sớm và ngắm bình minh chưa?\",\n",
        "    \"Cây cầu dài nhất thế giới là một biểu tượng của sự tiến bộ về kỹ thuật.\",\n",
        "    \"Âm nhạc có khả năng kết nối con người bất kể ngôn ngữ hay văn hóa.\",\n",
        "    \"Chúng tôi luôn tin rằng giáo dục là chìa khóa mở ra tương lai tốt đẹp hơn.\",\n",
        "    \"Khi lá rụng, mùa thu lại bắt đầu, mang theo những cơn gió se lạnh.\",\n",
        "    \"Sự sẻ chia và giúp đỡ lẫn nhau làm cho cuộc sống trở nên ý nghĩa hơn.\"\n",
        "]\n",
        "for sentence in sample_sentences:\n",
        "    print(sentence)"
      ]
    },
    {
      "cell_type": "code",
      "source": [
        "paragraph = \"Một buổi sáng trong mùa hạ, không khí mát lành, ánh nắng ban mai nhẹ nhàng len lỏi, tô điểm cho khung cảnh quê em. Trên cánh đồng rộng lớn, những bông lúa chín mừng mình, nhấp nhô theo làn gió nhẹ. Những giọt sương đêm trên lá lúa như những viên ngọc nhỏ, lung linh dưới tác động của ánh sáng mặt trời. Xa xa, đàn cò trắng đang trải qua bầu trời, những cây tre già khẽ rì rào theo hơi gió, tạo nên bức tranh hòa mình trong không gian bình yên. Ngày mới bắt đầu, những người nông dân xô bồ ra đồng, tạo nên âm nhạc vui tươi của cuộc sống quê hương. Tiếng nói, tiếng cười, tiếng hỏi thăm làm cho khung cảnh trở nên sống động, hạnh phúc hơn. Mỉm cười chào đón ngày mới, em bắt đầu hành trình đến trường trên chiếc xe đạp trung thành.\"\n",
        "print(paragraph)"
      ],
      "metadata": {
        "colab": {
          "base_uri": "https://localhost:8080/"
        },
        "id": "OthsgM2HWJza",
        "outputId": "d1c15499-0680-468e-913f-b1039164be44"
      },
      "execution_count": null,
      "outputs": [
        {
          "output_type": "stream",
          "name": "stdout",
          "text": [
            "Một buổi sáng trong mùa hạ, không khí mát lành, ánh nắng ban mai nhẹ nhàng len lỏi, tô điểm cho khung cảnh quê em. Trên cánh đồng rộng lớn, những bông lúa chín mừng mình, nhấp nhô theo làn gió nhẹ. Những giọt sương đêm trên lá lúa như những viên ngọc nhỏ, lung linh dưới tác động của ánh sáng mặt trời. Xa xa, đàn cò trắng đang trải qua bầu trời, những cây tre già khẽ rì rào theo hơi gió, tạo nên bức tranh hòa mình trong không gian bình yên. Ngày mới bắt đầu, những người nông dân xô bồ ra đồng, tạo nên âm nhạc vui tươi của cuộc sống quê hương. Tiếng nói, tiếng cười, tiếng hỏi thăm làm cho khung cảnh trở nên sống động, hạnh phúc hơn. Mỉm cười chào đón ngày mới, em bắt đầu hành trình đến trường trên chiếc xe đạp trung thành.\n"
          ]
        }
      ]
    },
    {
      "cell_type": "code",
      "source": [
        "#FPT AI TTS: đoạn văn ngắn\n",
        "\n",
        "import requests\n",
        "\n",
        "url = 'https://api.fpt.ai/hmi/tts/v5'\n",
        "\n",
        "payload = paragraph\n",
        "headers = {\n",
        "    'api-key': 'wLhD909fDqCnpYbT4MoI2NTbamkc9ZQu',\n",
        "    'speed': '',\n",
        "    'voice': 'banmai'\n",
        "}\n",
        "\n",
        "response = requests.request('POST', url, data=payload.encode('utf-8'), headers=headers)\n",
        "\n",
        "print(response.text)\n"
      ],
      "metadata": {
        "colab": {
          "base_uri": "https://localhost:8080/"
        },
        "id": "bUgNkwOiev2E",
        "outputId": "4a39466d-5a30-4f53-af9d-cec789f1eddf"
      },
      "execution_count": null,
      "outputs": [
        {
          "output_type": "stream",
          "name": "stdout",
          "text": [
            "{\"async\":\"https://file01.fpt.ai/text2speech-v5/short/2025-04-15/86f9e4620c1da283a4b3a9bb954a058b.mp3\",\"error\":0,\"message\":\"The content will be returned after a few seconds under the async link.\",\"request_id\":\"cb13513d-52f4-4f26-9f81-2af456c3a57a\"}\n"
          ]
        }
      ]
    },
    {
      "cell_type": "code",
      "source": [
        "#FPT AI TTS: 20 mẫu\n",
        "\n",
        "import requests\n",
        "import time\n",
        "\n",
        "# Định nghĩa endpoint API\n",
        "url = 'https://api.fpt.ai/hmi/tts/v5'\n",
        "\n",
        "# Định nghĩa headers\n",
        "headers = {\n",
        "    'api-key': 'wLhD909fDqCnpYbT4MoI2NTbamkc9ZQu',\n",
        "    'speed': '',\n",
        "    'voice': 'banmai'\n",
        "}\n",
        "\n",
        "# Lặp qua danh sách câu và gửi từng yêu cầu tới API\n",
        "for idx, sentence in enumerate(sample_sentences):\n",
        "    response = requests.post(url, data=sentence.encode('utf-8'), headers=headers)\n",
        "\n",
        "    if response.status_code == 200:\n",
        "        result = response.json()\n",
        "        if \"async\" in result:\n",
        "            print(f\"Câu {idx + 1}: {sentence}\")\n",
        "            print(\"Audio URL:\", result[\"async\"])\n",
        "            print(\"-\" * 50)\n",
        "        else:\n",
        "            print(f\"Lỗi API với câu {idx + 1}: {result}\")\n",
        "    else:\n",
        "        print(f\"Lỗi kết nối API với câu {idx + 1}: {response.status_code}, {response.text}\")\n",
        "\n",
        "    time.sleep(1.5)  # Nghỉ 1.5 giây giữa các lần gọi API"
      ],
      "metadata": {
        "colab": {
          "base_uri": "https://localhost:8080/"
        },
        "id": "um5CoTQEiCc0",
        "outputId": "b66238ad-465e-4645-b30d-93c179e98bfc"
      },
      "execution_count": null,
      "outputs": [
        {
          "output_type": "stream",
          "name": "stdout",
          "text": [
            "Câu 1: Hôm nay trời có vẻ nắng đẹp, chắc mọi người sẽ đi dạo công viên.\n",
            "Audio URL: https://file01.fpt.ai/text2speech-v5/short/2025-04-15/58e8e2b735183c94ce672c48a24eac7d.mp3\n",
            "--------------------------------------------------\n",
            "Câu 2: Con sông chảy dài, uốn lượn qua những cánh đồng xanh bát ngát.\n",
            "Audio URL: https://file01.fpt.ai/text2speech-v5/short/2025-04-15/ad1e889a2c8540dda8586c36639dcf49.mp3\n",
            "--------------------------------------------------\n",
            "Câu 3: Khi thành phố lên đèn, nhịp sống về đêm mới bắt đầu.\n",
            "Audio URL: https://file01.fpt.ai/text2speech-v5/short/2025-04-15/fd7347cff5061530ef25bb93c82ab03d.mp3\n",
            "--------------------------------------------------\n",
            "Câu 4: Anh ấy rất thích uống cà phê mỗi sáng để tỉnh táo làm việc.\n",
            "Audio URL: https://file01.fpt.ai/text2speech-v5/short/2025-04-15/e1cefce28205dc9a8ebde7fed2f82cf7.mp3\n",
            "--------------------------------------------------\n",
            "Câu 5: Tại sao những chú chim luôn cất tiếng hót vào buổi sáng sớm?\n",
            "Audio URL: https://file01.fpt.ai/text2speech-v5/short/2025-04-15/5c72745f1147475b0b9e33c210890e5a.mp3\n",
            "--------------------------------------------------\n",
            "Câu 6: Cuộc sống hiện đại khiến chúng ta dễ quên đi sự kết nối với thiên nhiên.\n",
            "Audio URL: https://file01.fpt.ai/text2speech-v5/short/2025-04-15/c12d6e9ef4cf7b644896ec3967da5d46.mp3\n",
            "--------------------------------------------------\n",
            "Câu 7: Bà của tôi thường kể những câu chuyện cổ tích trước khi tôi đi ngủ.\n",
            "Audio URL: https://file01.fpt.ai/text2speech-v5/short/2025-04-15/35ea769d7f53deb45b18befe87b54645.mp3\n",
            "--------------------------------------------------\n",
            "Câu 8: Mỗi lần đến thư viện, tôi lại bị cuốn vào thế giới của sách.\n",
            "Audio URL: https://file01.fpt.ai/text2speech-v5/short/2025-04-15/bcfe37de79259edde505bcfc76053a2a.mp3\n",
            "--------------------------------------------------\n",
            "Câu 9: Nếu bạn có thể đi du lịch ở bất kỳ nơi nào trên thế giới, bạn sẽ chọn ở đâu?\n",
            "Audio URL: https://file01.fpt.ai/text2speech-v5/short/2025-04-15/eb1b37b862fd2dd59aaf86785960cf53.mp3\n",
            "--------------------------------------------------\n",
            "Câu 10: Bầu trời đêm hôm nay đầy sao, như một bức tranh tuyệt đẹp của thiên nhiên.\n",
            "Audio URL: https://file01.fpt.ai/text2speech-v5/short/2025-04-15/35aa4ccc5c7bdd78f54378b85e099289.mp3\n",
            "--------------------------------------------------\n",
            "Câu 11: Dù công việc bận rộn, hãy nhớ dành thời gian chăm sóc bản thân.\n",
            "Audio URL: https://file01.fpt.ai/text2speech-v5/short/2025-04-15/e0050e7b44a2328810845ee40538ec10.mp3\n",
            "--------------------------------------------------\n",
            "Câu 12: Trẻ em thường thích chạy nhảy trên những cánh đồng lúa vàng.\n",
            "Audio URL: https://file01.fpt.ai/text2speech-v5/short/2025-04-15/0604e9a9158a812fbb7922cba91fa106.mp3\n",
            "--------------------------------------------------\n",
            "Câu 13: Nghệ thuật nấu ăn không chỉ là kỹ năng mà còn là sự sáng tạo.\n",
            "Audio URL: https://file01.fpt.ai/text2speech-v5/short/2025-04-15/f4491eb9da0a42f910e33d0674d55146.mp3\n",
            "--------------------------------------------------\n",
            "Câu 14: Mỗi cơn mưa rào mùa hạ đều mang đến cảm giác mát mẻ, dễ chịu.\n",
            "Audio URL: https://file01.fpt.ai/text2speech-v5/short/2025-04-15/7e408c384bececbfac33c3c1063d9980.mp3\n",
            "--------------------------------------------------\n",
            "Câu 15: Bạn đã bao giờ thử thức dậy sớm và ngắm bình minh chưa?\n",
            "Audio URL: https://file01.fpt.ai/text2speech-v5/short/2025-04-15/952b88005324acbae9657e6d27b55d3f.mp3\n",
            "--------------------------------------------------\n",
            "Câu 16: Cây cầu dài nhất thế giới là một biểu tượng của sự tiến bộ về kỹ thuật.\n",
            "Audio URL: https://file01.fpt.ai/text2speech-v5/short/2025-04-15/74b7cad42a7bcd3f45620b75c0263ffe.mp3\n",
            "--------------------------------------------------\n",
            "Câu 17: Âm nhạc có khả năng kết nối con người bất kể ngôn ngữ hay văn hóa.\n",
            "Audio URL: https://file01.fpt.ai/text2speech-v5/short/2025-04-15/991b59a38dd8a3d0bfbfc6d9fda09b24.mp3\n",
            "--------------------------------------------------\n",
            "Câu 18: Chúng tôi luôn tin rằng giáo dục là chìa khóa mở ra tương lai tốt đẹp hơn.\n",
            "Audio URL: https://file01.fpt.ai/text2speech-v5/short/2025-04-15/a0e97dccbee12242653c0882110a3f0f.mp3\n",
            "--------------------------------------------------\n",
            "Câu 19: Khi lá rụng, mùa thu lại bắt đầu, mang theo những cơn gió se lạnh.\n",
            "Audio URL: https://file01.fpt.ai/text2speech-v5/short/2025-04-15/6c7b137dd469b8a7e736a4fa8bb6f1da.mp3\n",
            "--------------------------------------------------\n",
            "Câu 20: Sự sẻ chia và giúp đỡ lẫn nhau làm cho cuộc sống trở nên ý nghĩa hơn.\n",
            "Audio URL: https://file01.fpt.ai/text2speech-v5/short/2025-04-15/2ecb8bf61e0b297724a0e61348c0ee9a.mp3\n",
            "--------------------------------------------------\n"
          ]
        }
      ]
    },
    {
      "cell_type": "code",
      "source": [
        "# Viettel AI TTS: Đoạn văn ngắn\n",
        "\n",
        "import requests\n",
        "import json\n",
        "\n",
        "# Định nghĩa endpoint API\n",
        "url = \"https://viettelai.vn/tts/speech_synthesis\"\n",
        "\n",
        "# Định nghĩa payload\n",
        "payload = json.dumps({\n",
        "    \"text\": paragraph,\n",
        "    \"voice\": \"hcm-diemmy\",\n",
        "    \"speed\": 1,\n",
        "    \"tts_return_option\": 3,\n",
        "    \"token\": \"b78353060e4fc496c6641960b931f37d\",\n",
        "    \"without_filter\": False\n",
        "})\n",
        "\n",
        "# Định nghĩa headers\n",
        "headers = {\n",
        "    'accept': '*/*',\n",
        "    'Content-Type': 'application/json'\n",
        "}\n",
        "\n",
        "# Gửi yêu cầu POST tới API\n",
        "response = requests.post(url, headers=headers, data=payload)\n",
        "\n",
        "# Lưu file âm thanh nếu phản hồi thành công\n",
        "if response.status_code == 200:\n",
        "    with open(\"viettel_audio.mp3\", \"wb\") as file:\n",
        "        file.write(response.content)\n",
        "    print(\"TTS file saved successfully: viettel_audio.mp3\")\n",
        "else:\n",
        "    print(f\"Error: {response.status_code}, {response.text}\")"
      ],
      "metadata": {
        "colab": {
          "base_uri": "https://localhost:8080/"
        },
        "id": "p4p4kjQ15qvY",
        "outputId": "93acf7bf-88ee-4b2d-bf58-784088ca9575"
      },
      "execution_count": null,
      "outputs": [
        {
          "output_type": "stream",
          "name": "stdout",
          "text": [
            "TTS file saved successfully: viettel_audio.mp3\n"
          ]
        }
      ]
    },
    {
      "cell_type": "code",
      "source": [
        "# Viettel AI TTS: 20 mẫu câu\n",
        "\n",
        "import requests\n",
        "import time\n",
        "\n",
        "# Định nghĩa endpoint API và API key\n",
        "url = \"https://viettelai.vn/tts/speech_synthesis\"\n",
        "api_key = \"b78353060e4fc496c6641960b931f37d\"\n",
        "\n",
        "# Hàm gửi yêu cầu đến API Viettel TTS\n",
        "def viettel_tts(text, output_file):\n",
        "    headers = {\n",
        "        'Authorization': f'Bearer {api_key}',\n",
        "        'Content-Type': 'application/json'\n",
        "    }\n",
        "    payload = {\n",
        "        \"text\": text,\n",
        "        \"voice\": \"banmai\",\n",
        "        \"rate\": 1.0\n",
        "    }\n",
        "\n",
        "    response = requests.post(url, json=payload, headers=headers)\n",
        "\n",
        "    if response.status_code == 200:\n",
        "        with open(output_file, 'wb') as f:\n",
        "            f.write(response.content)\n",
        "        print(f\"TTS file saved successfully: {output_file}\")\n",
        "    else:\n",
        "        print(f\"Error with sentence '{text}': {response.status_code}, {response.text}\")\n",
        "\n",
        "# Lặp qua danh sách câu và tạo file âm thanh cho từng câu\n",
        "for idx, sentence in enumerate(sample_sentences):\n",
        "    output_file = f\"viettel_sentence_{idx + 1}.mp3\"\n",
        "    viettel_tts(sentence, output_file)\n",
        "\n",
        "    time.sleep(1.5)  # Nghỉ 1.5 giây giữa mỗi lần gọi API"
      ],
      "metadata": {
        "colab": {
          "base_uri": "https://localhost:8080/"
        },
        "id": "YnSShgBBj-O_",
        "outputId": "26751f70-11d3-4584-b00b-790f33a135ee"
      },
      "execution_count": null,
      "outputs": [
        {
          "output_type": "stream",
          "name": "stdout",
          "text": [
            "TTS file saved successfully: viettel_sentence_1.mp3\n",
            "TTS file saved successfully: viettel_sentence_2.mp3\n",
            "TTS file saved successfully: viettel_sentence_3.mp3\n",
            "TTS file saved successfully: viettel_sentence_4.mp3\n",
            "TTS file saved successfully: viettel_sentence_5.mp3\n",
            "TTS file saved successfully: viettel_sentence_6.mp3\n",
            "TTS file saved successfully: viettel_sentence_7.mp3\n",
            "TTS file saved successfully: viettel_sentence_8.mp3\n",
            "TTS file saved successfully: viettel_sentence_9.mp3\n",
            "TTS file saved successfully: viettel_sentence_10.mp3\n",
            "TTS file saved successfully: viettel_sentence_11.mp3\n",
            "TTS file saved successfully: viettel_sentence_12.mp3\n",
            "TTS file saved successfully: viettel_sentence_13.mp3\n",
            "TTS file saved successfully: viettel_sentence_14.mp3\n",
            "TTS file saved successfully: viettel_sentence_15.mp3\n",
            "TTS file saved successfully: viettel_sentence_16.mp3\n",
            "TTS file saved successfully: viettel_sentence_17.mp3\n",
            "TTS file saved successfully: viettel_sentence_18.mp3\n",
            "TTS file saved successfully: viettel_sentence_19.mp3\n",
            "TTS file saved successfully: viettel_sentence_20.mp3\n"
          ]
        }
      ]
    },
    {
      "cell_type": "code",
      "source": [
        "paragraph2 = \"Cuộc sống cứ thế trôi đi với những niềm vui giản dị ẩn chứa xung quanh ta, từ một tách trà ấm buổi sáng đến nụ cười của người thân, vì vậy hãy trân trọng từng khoảnh khắc nhỏ bé mà nó mang lại, bởi đó chính là những viên gạch xây nên hạnh phúc.\"\n",
        "print(paragraph2)"
      ],
      "metadata": {
        "colab": {
          "base_uri": "https://localhost:8080/"
        },
        "id": "Af5ihP4q_RP8",
        "outputId": "b6a30159-b46a-450b-a042-62fd44fdbfbe"
      },
      "execution_count": null,
      "outputs": [
        {
          "output_type": "stream",
          "name": "stdout",
          "text": [
            "Cuộc sống cứ thế trôi đi với những niềm vui giản dị ẩn chứa xung quanh ta, từ một tách trà ấm buổi sáng đến nụ cười của người thân, vì vậy hãy trân trọng từng khoảnh khắc nhỏ bé mà nó mang lại, bởi đó chính là những viên gạch xây nên hạnh phúc.\n"
          ]
        }
      ]
    },
    {
      "cell_type": "code",
      "source": [
        "# Viettel AI TTS: Giọng các vùng miền\n",
        "\n",
        "import requests\n",
        "import json\n",
        "\n",
        "# Định nghĩa endpoint API\n",
        "url = \"https://viettelai.vn/tts/speech_synthesis\"\n",
        "\n",
        "# Danh sách các giọng nói cần thử nghiệm\n",
        "voices = [\"hcm-diemmy\", \"hn-quynhanh\", \"hue-maingoc\"]\n",
        "\n",
        "# API key thực của bạn\n",
        "token = \"b78353060e4fc496c6641960b931f37d\"\n",
        "\n",
        "# Hàm gửi yêu cầu TTS và lưu file âm thanh\n",
        "def test_tts(voice, text, file_name):\n",
        "    payload = json.dumps({\n",
        "        \"text\": text,\n",
        "        \"voice\": voice,\n",
        "        \"speed\": 1,\n",
        "        \"tts_return_option\": 3,\n",
        "        \"token\": token,\n",
        "        \"without_filter\": False\n",
        "    })\n",
        "\n",
        "    # Định nghĩa headers\n",
        "    headers = {\n",
        "        'accept': '*/*',\n",
        "        'Content-Type': 'application/json'\n",
        "    }\n",
        "\n",
        "    # Gửi yêu cầu POST tới API\n",
        "    response = requests.post(url, headers=headers, data=payload)\n",
        "\n",
        "    # Lưu file âm thanh nếu phản hồi thành công\n",
        "    if response.status_code == 200:\n",
        "        with open(file_name, \"wb\") as file:\n",
        "            file.write(response.content)\n",
        "        print(f\"TTS file saved successfully: {file_name}\")\n",
        "    else:\n",
        "        print(f\"Error with voice '{voice}': {response.status_code}, {response.text}\")\n",
        "\n",
        "# Thử nghiệm với các giọng nói trong danh sách\n",
        "for voice in voices:\n",
        "    file_name = f\"viettel_tts_{voice}.mp3\"\n",
        "    test_tts(voice, paragraph2, file_name)"
      ],
      "metadata": {
        "colab": {
          "base_uri": "https://localhost:8080/"
        },
        "id": "jyBeETh_-cbH",
        "outputId": "a534a3fa-782f-4847-ca00-064e2d66812e"
      },
      "execution_count": null,
      "outputs": [
        {
          "output_type": "stream",
          "name": "stdout",
          "text": [
            "TTS file saved successfully: viettel_tts_hcm-diemmy.mp3\n",
            "TTS file saved successfully: viettel_tts_hn-quynhanh.mp3\n",
            "TTS file saved successfully: viettel_tts_hue-maingoc.mp3\n"
          ]
        }
      ]
    },
    {
      "cell_type": "code",
      "source": [
        "import requests\n",
        "import json\n",
        "import time\n",
        "\n",
        "# Định nghĩa endpoint API\n",
        "url = 'https://api.fpt.ai/hmi/tts/v5'\n",
        "\n",
        "# Danh sách các giọng nói cần thử nghiệm\n",
        "voices = ['banmai', 'lannhi', 'myan']\n",
        "\n",
        "# API key thực của bạn\n",
        "api_key = 'wLhD909fDqCnpYbT4MoI2NTbamkc9ZQu'  # Thay bằng API key thực tế\n",
        "\n",
        "# Hàm gửi yêu cầu đến API và nhận URL file âm thanh\n",
        "def test_tts(voice, text):\n",
        "    headers = {\n",
        "        'api-key': api_key,\n",
        "        'speed': '',\n",
        "        'voice': voice\n",
        "    }\n",
        "\n",
        "    # Gửi yêu cầu POST tới API\n",
        "    response = requests.post(url, data=text.encode('utf-8'), headers=headers)\n",
        "\n",
        "    # Kiểm tra phản hồi API\n",
        "    if response.status_code == 200:\n",
        "        result = response.json()\n",
        "        if \"async\" in result:  # Lấy URL file âm thanh\n",
        "            audio_url = result[\"async\"]\n",
        "            print(f\"Voice: {voice}\")\n",
        "            print(\"Audio URL:\", audio_url)\n",
        "            print(\"-\" * 50)\n",
        "            return audio_url\n",
        "        else:\n",
        "            print(f\"Error: API did not return an audio file for voice '{voice}'.\")\n",
        "            return None\n",
        "    else:\n",
        "        print(f\"Error with voice '{voice}': {response.status_code}, {response.text}\")\n",
        "        return None\n",
        "\n",
        "# Thử nghiệm với các giọng nói trong danh sách và tải file về\n",
        "for voice in voices:\n",
        "    audio_url = test_tts(voice, paragraph2)\n",
        "\n",
        "    # Nếu URL hợp lệ, tải file về\n",
        "    if audio_url:\n",
        "        response_audio = requests.get(audio_url)\n",
        "        if response_audio.status_code == 200:\n",
        "            file_name = f\"fpt_tts_{voice}.mp3\"\n",
        "            with open(file_name, 'wb') as file:\n",
        "                file.write(response_audio.content)\n",
        "            print(f\"TTS file saved successfully: {file_name}\")\n",
        "        else:\n",
        "            print(f\"Error downloading audio for '{voice}': {response_audio.status_code}\")\n",
        "        time.sleep(1.5)"
      ],
      "metadata": {
        "colab": {
          "base_uri": "https://localhost:8080/"
        },
        "id": "zXtDdLQrARcx",
        "outputId": "bf5ab7b3-9fda-46a2-b0e2-311a17583472"
      },
      "execution_count": null,
      "outputs": [
        {
          "output_type": "stream",
          "name": "stdout",
          "text": [
            "Voice: banmai\n",
            "Audio URL: https://file01.fpt.ai/text2speech-v5/short/2025-04-15/6331b852ecdf0c85241179970b275e3b.mp3\n",
            "--------------------------------------------------\n",
            "Error downloading audio for 'banmai': 404\n",
            "Voice: lannhi\n",
            "Audio URL: https://file01.fpt.ai/text2speech-v5/short/2025-04-15/d459f0353f93957c8497cce9f1c40ea4.mp3\n",
            "--------------------------------------------------\n",
            "Error downloading audio for 'lannhi': 404\n",
            "Voice: myan\n",
            "Audio URL: https://file01.fpt.ai/text2speech-v5/short/2025-04-15/8c0dad903224aaff9206544bec5975b6.mp3\n",
            "--------------------------------------------------\n",
            "Error downloading audio for 'myan': 404\n"
          ]
        }
      ]
    }
  ]
}